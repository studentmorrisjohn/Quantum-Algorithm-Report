{
 "cells": [
  {
   "cell_type": "code",
   "execution_count": 48,
   "id": "b6e69d71-0e6e-4493-b7fe-4681ea5db7bd",
   "metadata": {
    "tags": []
   },
   "outputs": [],
   "source": [
    "# Importing standard Qiskit libraries\n",
    "from qiskit import QuantumCircuit, transpile, QuantumRegister, ClassicalRegister, Aer\n",
    "from qiskit.tools.jupyter import *\n",
    "from qiskit.visualization import *\n",
    "from ibm_quantum_widgets import *\n",
    "from qiskit_aer import AerSimulator\n",
    "\n",
    "# qiskit-ibmq-provider has been deprecated.\n",
    "# Please see the Migration Guides in https://ibm.biz/provider_migration_guide for more detail.\n",
    "from qiskit_ibm_runtime import QiskitRuntimeService, Sampler, Estimator, Session, Options\n",
    "\n",
    "# Loading your IBM Quantum account(s)\n",
    "service = QiskitRuntimeService(channel=\"ibm_quantum\")\n",
    "\n",
    "# Invoke a primitive inside a session. For more details see https://qiskit.org/documentation/partners/qiskit_ibm_runtime/tutorials.html\n",
    "# with Session(backend=service.backend(\"ibmq_qasm_simulator\")):\n",
    "#     result = Sampler().run(circuits).result()"
   ]
  },
  {
   "cell_type": "code",
   "execution_count": 39,
   "id": "b6892d04-f1c1-49b7-b4b4-4c596b57ccbe",
   "metadata": {
    "tags": []
   },
   "outputs": [],
   "source": [
    "def initialize():\n",
    "    qreg_q = QuantumRegister(2, 'q')\n",
    "    circuit = QuantumCircuit(qreg_q, name=\"initialize_circuit\")\n",
    "\n",
    "    circuit.h(qreg_q[1])\n",
    "    circuit.h(qreg_q[0])\n",
    "    \n",
    "    return circuit"
   ]
  },
  {
   "cell_type": "code",
   "execution_count": 40,
   "id": "263217f5-6220-4b20-81f8-ae12c4dbcd13",
   "metadata": {
    "tags": []
   },
   "outputs": [
    {
     "data": {
      "image/png": "[encoded data removed]",
      "text/plain": [
       "<Figure size 203.683x200.667 with 1 Axes>"
      ]
     },
     "execution_count": 40,
     "metadata": {},
     "output_type": "execute_result"
    }
   ],
   "source": [
    "initialize().draw()"
   ]
  },
  {
   "cell_type": "code",
   "execution_count": 41,
   "id": "1041ddc4-f7d1-474c-a455-89b164081ebf",
   "metadata": {
    "tags": []
   },
   "outputs": [],
   "source": [
    "intialize = initialize().to_instruction()"
   ]
  },
  {
   "cell_type": "code",
   "execution_count": 32,
   "id": "f23cb320-a7b5-498e-8c40-5019be0010ce",
   "metadata": {
    "tags": []
   },
   "outputs": [],
   "source": [
    "def oracle():\n",
    "    qreg_q = QuantumRegister(2, 'q')\n",
    "\n",
    "    circuit = QuantumCircuit(qreg_q, name=\"oracle\")\n",
    "\n",
    "    circuit.cz(qreg_q[0], qreg_q[1])\n",
    "    \n",
    "    return circuit"
   ]
  },
  {
   "cell_type": "code",
   "execution_count": 33,
   "id": "b88cf3b7-7919-44fb-8869-5e230cc56e8c",
   "metadata": {
    "tags": []
   },
   "outputs": [
    {
     "data": {
      "image/png": "[encoded data removed]",
      "text/plain": [
       "<Figure size 203.683x200.667 with 1 Axes>"
      ]
     },
     "execution_count": 33,
     "metadata": {},
     "output_type": "execute_result"
    }
   ],
   "source": [
    "oracle().draw()"
   ]
  },
  {
   "cell_type": "code",
   "execution_count": 34,
   "id": "b543f0fb-b629-4126-a255-ecaf9c734c29",
   "metadata": {
    "tags": []
   },
   "outputs": [],
   "source": [
    "oracle = oracle().to_instruction()"
   ]
  },
  {
   "cell_type": "code",
   "execution_count": 35,
   "id": "010f2fac-f8e9-4a9f-b352-e2668afd3285",
   "metadata": {
    "tags": []
   },
   "outputs": [],
   "source": [
    "def amplify():\n",
    "    qreg_q = QuantumRegister(2, 'q')\n",
    "\n",
    "    circuit = QuantumCircuit(qreg_q, name=\"amplify\")\n",
    "\n",
    "    circuit.h(qreg_q[1])\n",
    "    circuit.h(qreg_q[0])\n",
    "    circuit.z(qreg_q[0])\n",
    "    circuit.z(qreg_q[1])\n",
    "    circuit.cz(qreg_q[0], qreg_q[1])\n",
    "    circuit.h(qreg_q[0])\n",
    "    circuit.h(qreg_q[1])\n",
    "    \n",
    "    return circuit"
   ]
  },
  {
   "cell_type": "code",
   "execution_count": 36,
   "id": "29500193-567e-493c-8a34-40d8fd2994b5",
   "metadata": {
    "tags": []
   },
   "outputs": [
    {
     "data": {
      "image/png": "[encoded data removed]",
      "text/plain": [
       "<Figure size 454.517x200.667 with 1 Axes>"
      ]
     },
     "execution_count": 36,
     "metadata": {},
     "output_type": "execute_result"
    }
   ],
   "source": [
    "amplify().draw()"
   ]
  },
  {
   "cell_type": "code",
   "execution_count": 37,
   "id": "b65c00fe-b4d4-4722-a9a1-3c415c052e44",
   "metadata": {
    "tags": []
   },
   "outputs": [],
   "source": [
    "amplify = amplify().to_instruction()"
   ]
  },
  {
   "cell_type": "code",
   "execution_count": 57,
   "id": "143f6215-f6e7-401c-9e4d-db963bc7b490",
   "metadata": {
    "tags": []
   },
   "outputs": [
    {
     "data": {
      "image/png": "[encoded data removed]",
      "text/plain": [
       "<Figure size 872.572x284.278 with 1 Axes>"
      ]
     },
     "execution_count": 57,
     "metadata": {},
     "output_type": "execute_result"
    }
   ],
   "source": [
    "grover_circuit = QuantumCircuit(2,2)\n",
    "grover_circuit.append(intialize, [0, 1])\n",
    "grover_circuit.append(oracle, [0, 1])\n",
    "grover_circuit.append(amplify, [0, 1])\n",
    "grover_circuit.measure(0,0)\n",
    "grover_circuit.measure(1,1)\n",
    "grover_circuit.draw()"
   ]
  },
  {
   "cell_type": "code",
   "execution_count": 54,
   "id": "20f7c488-9f6b-4776-a7b6-910740bcd93f",
   "metadata": {
    "tags": []
   },
   "outputs": [],
   "source": [
    "def execute_circuit(qc):\n",
    "    # Use Aer's qasm_simulator\n",
    "    backend_sim = Aer.get_backend('qasm_simulator')\n",
    "\n",
    "    # Execute the circuit on the qasm simulator.\n",
    "    # We've set the number of repeats of the circuit\n",
    "    # to be 1024, which is the default.\n",
    "    job_sim = backend_sim.run(transpile(qc, backend_sim), shots=1024)\n",
    "\n",
    "    # Grab the results from the job.\n",
    "    result_sim = job_sim.result()\n",
    "\n",
    "    counts = result_sim.get_counts(qc)\n",
    "\n",
    "    return counts"
   ]
  },
  {
   "cell_type": "code",
   "execution_count": 58,
   "id": "720fa4c4-9abc-4af8-9c7b-b5ff12b6b1ec",
   "metadata": {
    "tags": []
   },
   "outputs": [
    {
     "data": {
      "text/plain": [
       "{'11': 1024}"
      ]
     },
     "execution_count": 58,
     "metadata": {},
     "output_type": "execute_result"
    }
   ],
   "source": [
    "execute_circuit(grover_circuit)"
   ]
  },
  {
   "cell_type": "code",
   "execution_count": null,
   "id": "d3e8bb66-5755-41f6-9552-7eca616ededc",
   "metadata": {},
   "outputs": [],
   "source": []
  }
 ],
 "metadata": {
  "kernelspec": {
   "display_name": "Python 3 (ipykernel)",
   "language": "python",
   "name": "python3"
  },
  "language_info": {
   "codemirror_mode": {
    "name": "ipython",
    "version": 3
   },
   "file_extension": ".py",
   "mimetype": "text/x-python",
   "name": "python",
   "nbconvert_exporter": "python",
   "pygments_lexer": "ipython3",
   "version": "3.10.8"
  },
  "widgets": {
   "application/vnd.jupyter.widget-state+json": {
    "state": {
     "03157f5ba46d4e7f9e26bf345bfc1ab4": {
      "model_module": "@jupyter-widgets/base",
      "model_module_version": "2.0.0",
      "model_name": "LayoutModel",
      "state": {
       "width": "190px"
      }
     },
     "0ece49cdcc8d47c980c6e870f63856b9": {
      "model_module": "@jupyter-widgets/controls",
      "model_module_version": "2.0.0",
      "model_name": "HTMLStyleModel",
      "state": {
       "description_width": "",
       "font_size": null,
       "text_color": null
      }
     },
     "28f02d2c8fc94b1eafe898689b7a96d0": {
      "model_module": "@jupyter-widgets/base",
      "model_module_version": "2.0.0",
      "model_name": "LayoutModel",
      "state": {
       "margin": "0px 0px 0px 37px",
       "width": "600px"
      }
     },
     "3043f6504e674d7b921b1e07b4e54ba8": {
      "model_module": "@jupyter-widgets/controls",
      "model_module_version": "2.0.0",
      "model_name": "ButtonStyleModel",
      "state": {
       "font_family": null,
       "font_size": null,
       "font_style": null,
       "font_variant": null,
       "font_weight": null,
       "text_color": null,
       "text_decoration": null
      }
     },
     "31fb9fef7a5343cd94e6eb689c77ac29": {
      "model_module": "@jupyter-widgets/controls",
      "model_module_version": "2.0.0",
      "model_name": "HTMLModel",
      "state": {
       "layout": "IPY_MODEL_03157f5ba46d4e7f9e26bf345bfc1ab4",
       "style": "IPY_MODEL_0ece49cdcc8d47c980c6e870f63856b9",
       "value": "<h5>Job ID</h5>"
      }
     },
     "34b2041573404e6da659d2ee74bdff43": {
      "model_module": "@jupyter-widgets/controls",
      "model_module_version": "2.0.0",
      "model_name": "HTMLModel",
      "state": {
       "layout": "IPY_MODEL_763141c2c06f4ec68aa2a21f4a3ee028",
       "style": "IPY_MODEL_b572185057044b43a9bc95f0e0ca0b3c",
       "value": "<h5>Message</h5>"
      }
     },
     "4283659e64bb49429549321520343ac0": {
      "model_module": "@jupyter-widgets/controls",
      "model_module_version": "2.0.0",
      "model_name": "HTMLModel",
      "state": {
       "layout": "IPY_MODEL_43d727cc96624616ae00eaf9def55bd5",
       "style": "IPY_MODEL_60b3cf572db94636892fabc62af902fb",
       "value": "<h5>Queue</h5>"
      }
     },
     "43d727cc96624616ae00eaf9def55bd5": {
      "model_module": "@jupyter-widgets/base",
      "model_module_version": "2.0.0",
      "model_name": "LayoutModel",
      "state": {
       "width": "70px"
      }
     },
     "45bcef5497db4fc5afa2f65ee675c389": {
      "model_module": "@jupyter-widgets/controls",
      "model_module_version": "2.0.0",
      "model_name": "HTMLModel",
      "state": {
       "layout": "IPY_MODEL_9a5adfc457d74ea0bf62563ef7acd2aa",
       "style": "IPY_MODEL_627ae9b16774482d88aedde94073a694",
       "value": "<p style='font-family: IBM Plex Sans, Arial, Helvetica, sans-serif; font-size: 20px; font-weight: medium;'>Circuit Properties</p>"
      }
     },
     "484d5bf776a14d9fa72994763f00d714": {
      "model_module": "@jupyter-widgets/controls",
      "model_module_version": "2.0.0",
      "model_name": "HTMLStyleModel",
      "state": {
       "description_width": "",
       "font_size": null,
       "text_color": null
      }
     },
     "510fddb2299f40599a656fc9d98ed1be": {
      "model_module": "@jupyter-widgets/base",
      "model_module_version": "2.0.0",
      "model_name": "LayoutModel",
      "state": {
       "width": "95px"
      }
     },
     "5ba437dd13414798997cb42fc4d495c4": {
      "model_module": "@jupyter-widgets/base",
      "model_module_version": "2.0.0",
      "model_name": "LayoutModel",
      "state": {
       "width": "145px"
      }
     },
     "60b3cf572db94636892fabc62af902fb": {
      "model_module": "@jupyter-widgets/controls",
      "model_module_version": "2.0.0",
      "model_name": "HTMLStyleModel",
      "state": {
       "description_width": "",
       "font_size": null,
       "text_color": null
      }
     },
     "627ae9b16774482d88aedde94073a694": {
      "model_module": "@jupyter-widgets/controls",
      "model_module_version": "2.0.0",
      "model_name": "HTMLStyleModel",
      "state": {
       "description_width": "",
       "font_size": null,
       "text_color": null
      }
     },
     "6c38dd8601d545278d22c567dde524f5": {
      "model_module": "@jupyter-widgets/controls",
      "model_module_version": "2.0.0",
      "model_name": "HTMLStyleModel",
      "state": {
       "description_width": "",
       "font_size": null,
       "text_color": null
      }
     },
     "763141c2c06f4ec68aa2a21f4a3ee028": {
      "model_module": "@jupyter-widgets/base",
      "model_module_version": "2.0.0",
      "model_name": "LayoutModel",
      "state": {}
     },
     "89779df2b9a346c78b2de2ded9563ecd": {
      "model_module": "@jupyter-widgets/controls",
      "model_module_version": "2.0.0",
      "model_name": "GridBoxModel",
      "state": {
       "children": [
        "IPY_MODEL_d06148c4113c4694831f3fe285a5275f"
       ],
       "layout": "IPY_MODEL_be00c2067b4f46c09294090a0c73830f"
      }
     },
     "9a5adfc457d74ea0bf62563ef7acd2aa": {
      "model_module": "@jupyter-widgets/base",
      "model_module_version": "2.0.0",
      "model_name": "LayoutModel",
      "state": {
       "margin": "0px 0px 10px 0px"
      }
     },
     "b048384e364e4f2fb622fe3e0e6179ee": {
      "model_module": "@jupyter-widgets/controls",
      "model_module_version": "2.0.0",
      "model_name": "HBoxModel",
      "state": {
       "children": [
        "IPY_MODEL_31fb9fef7a5343cd94e6eb689c77ac29",
        "IPY_MODEL_edd94f5a4683495696e8fd8b1d822995",
        "IPY_MODEL_d36c8fc2cc8f40ed863180a1269205a6",
        "IPY_MODEL_4283659e64bb49429549321520343ac0",
        "IPY_MODEL_34b2041573404e6da659d2ee74bdff43"
       ],
       "layout": "IPY_MODEL_28f02d2c8fc94b1eafe898689b7a96d0"
      }
     },
     "b572185057044b43a9bc95f0e0ca0b3c": {
      "model_module": "@jupyter-widgets/controls",
      "model_module_version": "2.0.0",
      "model_name": "HTMLStyleModel",
      "state": {
       "description_width": "",
       "font_size": null,
       "text_color": null
      }
     },
     "be00c2067b4f46c09294090a0c73830f": {
      "model_module": "@jupyter-widgets/base",
      "model_module_version": "2.0.0",
      "model_name": "LayoutModel",
      "state": {
       "grid_template_areas": "\n                                       \". . . . right \"\n                                        ",
       "grid_template_columns": "20% 20% 20% 20% 20%",
       "width": "100%"
      }
     },
     "d06148c4113c4694831f3fe285a5275f": {
      "model_module": "@jupyter-widgets/controls",
      "model_module_version": "2.0.0",
      "model_name": "ButtonModel",
      "state": {
       "button_style": "primary",
       "description": "Clear",
       "layout": "IPY_MODEL_e0edecdc788d47b98502fdb52d9e0288",
       "style": "IPY_MODEL_3043f6504e674d7b921b1e07b4e54ba8",
       "tooltip": null
      }
     },
     "d36c8fc2cc8f40ed863180a1269205a6": {
      "model_module": "@jupyter-widgets/controls",
      "model_module_version": "2.0.0",
      "model_name": "HTMLModel",
      "state": {
       "layout": "IPY_MODEL_510fddb2299f40599a656fc9d98ed1be",
       "style": "IPY_MODEL_484d5bf776a14d9fa72994763f00d714",
       "value": "<h5>Status</h5>"
      }
     },
     "e0edecdc788d47b98502fdb52d9e0288": {
      "model_module": "@jupyter-widgets/base",
      "model_module_version": "2.0.0",
      "model_name": "LayoutModel",
      "state": {
       "grid_area": "right",
       "padding": "0px 0px 0px 0px",
       "width": "70px"
      }
     },
     "edd94f5a4683495696e8fd8b1d822995": {
      "model_module": "@jupyter-widgets/controls",
      "model_module_version": "2.0.0",
      "model_name": "HTMLModel",
      "state": {
       "layout": "IPY_MODEL_5ba437dd13414798997cb42fc4d495c4",
       "style": "IPY_MODEL_6c38dd8601d545278d22c567dde524f5",
       "value": "<h5>Backend</h5>"
      }
     }
    },
    "version_major": 2,
    "version_minor": 0
   }
  }
 },
 "nbformat": 4,
 "nbformat_minor": 5
}
